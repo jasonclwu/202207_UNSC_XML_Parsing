{
 "cells": [
  {
   "cell_type": "markdown",
   "metadata": {},
   "source": [
    "<h1>The XML Strucutre</h1>\n",
    "\n",
    "<img src=\"https://www.w3schools.com/xml/nodetree.gif\"/>\n",
    "\n",
    "Source: https://www.w3schools.com/xml/xml_tree.asp"
   ]
  },
  {
   "cell_type": "markdown",
   "metadata": {},
   "source": [
    "<h1>Importing Libraries</h1>"
   ]
  },
  {
   "cell_type": "code",
   "execution_count": 1,
   "metadata": {},
   "outputs": [],
   "source": [
    "import pandas as pd\n",
    "from lxml import etree\n",
    "pd.set_option('display.max_columns', None)"
   ]
  },
  {
   "cell_type": "markdown",
   "metadata": {},
   "source": [
    "<h1>Basic Set Up</h1>"
   ]
  },
  {
   "cell_type": "code",
   "execution_count": 2,
   "metadata": {},
   "outputs": [],
   "source": [
    "tree = etree.parse('data/consolidated_20220616.xml') # returns an ElementTree object\n",
    "\n",
    "root = tree.getroot() # for parsing XML fragments"
   ]
  },
  {
   "cell_type": "markdown",
   "metadata": {},
   "source": [
    "<h1>Basic Navigation</h1>"
   ]
  },
  {
   "cell_type": "code",
   "execution_count": 3,
   "metadata": {},
   "outputs": [
    {
     "name": "stdout",
     "output_type": "stream",
     "text": [
      "Number of nodes in the XML: 2\n",
      "The first node is named \"INDIVIDUALS\"\n",
      "The second node is named \"ENTITIES\"\n"
     ]
    }
   ],
   "source": [
    "# \"root\" is a iterable like a simple python \"list\". To get the number of nodes in first level:\n",
    "\n",
    "print(f'Number of nodes in the XML: {len(root)}') # Use len() to get the number of child nodes\n",
    "print(f'The first node is named \"{root[0].tag}\"') # Access the 1 child node in the XML --> index = 0\n",
    "print(f'The second node is named \"{root[1].tag}\"') # Access the 1 child node in the XML --> index = 1"
   ]
  },
  {
   "cell_type": "code",
   "execution_count": 4,
   "metadata": {},
   "outputs": [
    {
     "name": "stdout",
     "output_type": "stream",
     "text": [
      "The name (element / tag) of node is :\"INDIVIDUALS\"\n",
      "The value (text) of node is :\"\n",
      "        \"\n",
      "The attribute of node is :\"{}\"\n"
     ]
    }
   ],
   "source": [
    "print(f'The name (element / tag) of node is :\"{root[0].tag}\"')\n",
    "print(f'The value (text) of node is :\"{root[0].text}\"')\n",
    "print(f'The attribute of node is :\"{root[0].attrib}\"')\n",
    "\n",
    "# \".tag\", \".text\" and \".attrib\" are critical methods to extract data from XML file. While we will be only using \".tag\", \".text\" in this tutorial."
   ]
  },
  {
   "cell_type": "code",
   "execution_count": 5,
   "metadata": {},
   "outputs": [
    {
     "name": "stdout",
     "output_type": "stream",
     "text": [
      "INDIVIDUALS\n",
      "ENTITIES\n"
     ]
    }
   ],
   "source": [
    "#Iterate the XML to get all child nodes:\n",
    "\n",
    "for node in root:\n",
    "\n",
    "    print(node.tag)"
   ]
  },
  {
   "cell_type": "code",
   "execution_count": 6,
   "metadata": {},
   "outputs": [],
   "source": [
    "# Create variable for \"individual\" and \"entity\" nodes seperately\n",
    "\n",
    "individuals = root[0]\n",
    "entities = root[1]"
   ]
  },
  {
   "cell_type": "code",
   "execution_count": 7,
   "metadata": {},
   "outputs": [
    {
     "name": "stdout",
     "output_type": "stream",
     "text": [
      "Number of individual: 700\n",
      "Number of entity: 253\n"
     ]
    }
   ],
   "source": [
    "# Use len() to get the number of records under the \"INDIVIDUALS\" node and \"ENTITIES\" node\n",
    "\n",
    "print(f'Number of individual: {len(individuals)}')\n",
    "print(f'Number of entity: {len(entities)}')"
   ]
  },
  {
   "cell_type": "markdown",
   "metadata": {},
   "source": [
    "<h1>.tag and .text</h1>"
   ]
  },
  {
   "cell_type": "code",
   "execution_count": 8,
   "metadata": {},
   "outputs": [
    {
     "name": "stdout",
     "output_type": "stream",
     "text": [
      "<Element INDIVIDUAL at 0x203efa8db80>\n",
      "INDIVIDUAL\n",
      "None\n"
     ]
    }
   ],
   "source": [
    "# We can apply the same function or methods to child node (and any child node underneath) like what we have applied to \"root\" before\n",
    "\n",
    "print(individuals[0])\n",
    "print(individuals[0].tag)\n",
    "print(individuals[0].text)"
   ]
  },
  {
   "cell_type": "code",
   "execution_count": 9,
   "metadata": {},
   "outputs": [
    {
     "name": "stdout",
     "output_type": "stream",
     "text": [
      "<Element DATAID at 0x203efa91a00>\n",
      "DATAID\n",
      "6908555\n"
     ]
    }
   ],
   "source": [
    "print(individuals[0][0]) # The first \"node\" of the first individual record\n",
    "print(individuals[0][0].tag) # The name of the first node --> can be transformed to \"column-name\" in tabular form\n",
    "print(individuals[0][0].text) # The innertext of the first node --> can be transformed to the \"value\" in tabular form"
   ]
  },
  {
   "cell_type": "code",
   "execution_count": 10,
   "metadata": {},
   "outputs": [
    {
     "name": "stdout",
     "output_type": "stream",
     "text": [
      "DATAID | 6908555\n",
      "VERSIONNUM | 1\n",
      "FIRST_NAME |  RI \n",
      "SECOND_NAME | WON HO\n",
      "THIRD_NAME | None\n",
      "UN_LIST_TYPE | DPRK\n",
      "REFERENCE_NUMBER | KPi.033\n",
      "LISTED_ON | 2016-11-30\n",
      "COMMENTS1 | Ri Won Ho is a DPRK Ministry of State Security Official stationed in Syria supporting KOMID.\n",
      "\n",
      "DESIGNATION | None\n",
      "NATIONALITY | None\n",
      "LIST_TYPE | None\n",
      "LAST_DAY_UPDATED | None\n",
      "INDIVIDUAL_ALIAS | None\n",
      "INDIVIDUAL_ADDRESS | None\n",
      "INDIVIDUAL_DATE_OF_BIRTH | None\n",
      "INDIVIDUAL_PLACE_OF_BIRTH | None\n",
      "INDIVIDUAL_DOCUMENT | None\n",
      "SORT_KEY | None\n",
      "SORT_KEY_LAST_MOD | None\n"
     ]
    }
   ],
   "source": [
    "#Let's explore what's inside the first individual record!\n",
    "\n",
    "for node in individuals[0]:\n",
    "\n",
    "    print(node.tag, '|', node.text)"
   ]
  },
  {
   "cell_type": "markdown",
   "metadata": {},
   "source": [
    "<h1>Create dataframe for individual[0]</h1>"
   ]
  },
  {
   "cell_type": "code",
   "execution_count": 11,
   "metadata": {},
   "outputs": [],
   "source": [
    "features = {}\n",
    "\n",
    "for node in individuals[0]:\n",
    "\n",
    "    features[node.tag] = node.text\n",
    "    \n",
    "df_features = pd.DataFrame(features, index=['0'])"
   ]
  },
  {
   "cell_type": "code",
   "execution_count": 12,
   "metadata": {},
   "outputs": [
    {
     "data": {
      "text/html": [
       "<div>\n",
       "<style scoped>\n",
       "    .dataframe tbody tr th:only-of-type {\n",
       "        vertical-align: middle;\n",
       "    }\n",
       "\n",
       "    .dataframe tbody tr th {\n",
       "        vertical-align: top;\n",
       "    }\n",
       "\n",
       "    .dataframe thead th {\n",
       "        text-align: right;\n",
       "    }\n",
       "</style>\n",
       "<table border=\"1\" class=\"dataframe\">\n",
       "  <thead>\n",
       "    <tr style=\"text-align: right;\">\n",
       "      <th></th>\n",
       "      <th>DATAID</th>\n",
       "      <th>VERSIONNUM</th>\n",
       "      <th>FIRST_NAME</th>\n",
       "      <th>SECOND_NAME</th>\n",
       "      <th>THIRD_NAME</th>\n",
       "      <th>UN_LIST_TYPE</th>\n",
       "      <th>REFERENCE_NUMBER</th>\n",
       "      <th>LISTED_ON</th>\n",
       "      <th>COMMENTS1</th>\n",
       "      <th>DESIGNATION</th>\n",
       "      <th>NATIONALITY</th>\n",
       "      <th>LIST_TYPE</th>\n",
       "      <th>LAST_DAY_UPDATED</th>\n",
       "      <th>INDIVIDUAL_ALIAS</th>\n",
       "      <th>INDIVIDUAL_ADDRESS</th>\n",
       "      <th>INDIVIDUAL_DATE_OF_BIRTH</th>\n",
       "      <th>INDIVIDUAL_PLACE_OF_BIRTH</th>\n",
       "      <th>INDIVIDUAL_DOCUMENT</th>\n",
       "      <th>SORT_KEY</th>\n",
       "      <th>SORT_KEY_LAST_MOD</th>\n",
       "    </tr>\n",
       "  </thead>\n",
       "  <tbody>\n",
       "    <tr>\n",
       "      <th>0</th>\n",
       "      <td>6908555</td>\n",
       "      <td>1</td>\n",
       "      <td>RI</td>\n",
       "      <td>WON HO</td>\n",
       "      <td>None</td>\n",
       "      <td>DPRK</td>\n",
       "      <td>KPi.033</td>\n",
       "      <td>2016-11-30</td>\n",
       "      <td>Ri Won Ho is a DPRK Ministry of State Security...</td>\n",
       "      <td>None</td>\n",
       "      <td>None</td>\n",
       "      <td>None</td>\n",
       "      <td>None</td>\n",
       "      <td>None</td>\n",
       "      <td>None</td>\n",
       "      <td>None</td>\n",
       "      <td>None</td>\n",
       "      <td>None</td>\n",
       "      <td>None</td>\n",
       "      <td>None</td>\n",
       "    </tr>\n",
       "  </tbody>\n",
       "</table>\n",
       "</div>"
      ],
      "text/plain": [
       "    DATAID VERSIONNUM FIRST_NAME SECOND_NAME THIRD_NAME UN_LIST_TYPE  \\\n",
       "0  6908555          1        RI       WON HO       None         DPRK   \n",
       "\n",
       "  REFERENCE_NUMBER   LISTED_ON  \\\n",
       "0          KPi.033  2016-11-30   \n",
       "\n",
       "                                           COMMENTS1 DESIGNATION NATIONALITY  \\\n",
       "0  Ri Won Ho is a DPRK Ministry of State Security...        None        None   \n",
       "\n",
       "  LIST_TYPE LAST_DAY_UPDATED INDIVIDUAL_ALIAS INDIVIDUAL_ADDRESS  \\\n",
       "0      None             None             None               None   \n",
       "\n",
       "  INDIVIDUAL_DATE_OF_BIRTH INDIVIDUAL_PLACE_OF_BIRTH INDIVIDUAL_DOCUMENT  \\\n",
       "0                     None                      None                None   \n",
       "\n",
       "  SORT_KEY SORT_KEY_LAST_MOD  \n",
       "0     None              None  "
      ]
     },
     "execution_count": 12,
     "metadata": {},
     "output_type": "execute_result"
    }
   ],
   "source": [
    "df_features"
   ]
  },
  {
   "cell_type": "markdown",
   "metadata": {},
   "source": [
    "<h1>Create Dataframe for all individuals</h1>"
   ]
  },
  {
   "cell_type": "code",
   "execution_count": 13,
   "metadata": {},
   "outputs": [],
   "source": [
    "df_individuals = pd.DataFrame()\n",
    "\n",
    "for individual in individuals:\n",
    "\n",
    "    features = {}\n",
    "\n",
    "    for node in individual:\n",
    "\n",
    "        features[node.tag] = node.text\n",
    "\n",
    "    df_features = pd.DataFrame(features, index=['0'])\n",
    "\n",
    "    df_individuals = df_individuals.append(df_features, ignore_index=True)"
   ]
  },
  {
   "cell_type": "code",
   "execution_count": 14,
   "metadata": {},
   "outputs": [
    {
     "data": {
      "text/html": [
       "<div>\n",
       "<style scoped>\n",
       "    .dataframe tbody tr th:only-of-type {\n",
       "        vertical-align: middle;\n",
       "    }\n",
       "\n",
       "    .dataframe tbody tr th {\n",
       "        vertical-align: top;\n",
       "    }\n",
       "\n",
       "    .dataframe thead th {\n",
       "        text-align: right;\n",
       "    }\n",
       "</style>\n",
       "<table border=\"1\" class=\"dataframe\">\n",
       "  <thead>\n",
       "    <tr style=\"text-align: right;\">\n",
       "      <th></th>\n",
       "      <th>DATAID</th>\n",
       "      <th>VERSIONNUM</th>\n",
       "      <th>FIRST_NAME</th>\n",
       "      <th>SECOND_NAME</th>\n",
       "      <th>THIRD_NAME</th>\n",
       "      <th>UN_LIST_TYPE</th>\n",
       "      <th>REFERENCE_NUMBER</th>\n",
       "      <th>LISTED_ON</th>\n",
       "      <th>COMMENTS1</th>\n",
       "      <th>DESIGNATION</th>\n",
       "      <th>NATIONALITY</th>\n",
       "      <th>LIST_TYPE</th>\n",
       "      <th>LAST_DAY_UPDATED</th>\n",
       "      <th>INDIVIDUAL_ALIAS</th>\n",
       "      <th>INDIVIDUAL_ADDRESS</th>\n",
       "      <th>INDIVIDUAL_DATE_OF_BIRTH</th>\n",
       "      <th>INDIVIDUAL_PLACE_OF_BIRTH</th>\n",
       "      <th>INDIVIDUAL_DOCUMENT</th>\n",
       "      <th>SORT_KEY</th>\n",
       "      <th>SORT_KEY_LAST_MOD</th>\n",
       "      <th>NAME_ORIGINAL_SCRIPT</th>\n",
       "      <th>FOURTH_NAME</th>\n",
       "      <th>GENDER</th>\n",
       "      <th>TITLE</th>\n",
       "      <th>SUBMITTED_BY</th>\n",
       "    </tr>\n",
       "  </thead>\n",
       "  <tbody>\n",
       "    <tr>\n",
       "      <th>0</th>\n",
       "      <td>6908555</td>\n",
       "      <td>1</td>\n",
       "      <td>RI</td>\n",
       "      <td>WON HO</td>\n",
       "      <td>None</td>\n",
       "      <td>DPRK</td>\n",
       "      <td>KPi.033</td>\n",
       "      <td>2016-11-30</td>\n",
       "      <td>Ri Won Ho is a DPRK Ministry of State Security...</td>\n",
       "      <td>None</td>\n",
       "      <td>None</td>\n",
       "      <td>None</td>\n",
       "      <td>None</td>\n",
       "      <td>None</td>\n",
       "      <td>None</td>\n",
       "      <td>None</td>\n",
       "      <td>None</td>\n",
       "      <td>None</td>\n",
       "      <td>None</td>\n",
       "      <td>None</td>\n",
       "      <td>NaN</td>\n",
       "      <td>NaN</td>\n",
       "      <td>NaN</td>\n",
       "      <td>NaN</td>\n",
       "      <td>NaN</td>\n",
       "    </tr>\n",
       "    <tr>\n",
       "      <th>1</th>\n",
       "      <td>6908570</td>\n",
       "      <td>1</td>\n",
       "      <td>CHANG</td>\n",
       "      <td>CHANG HA</td>\n",
       "      <td>None</td>\n",
       "      <td>DPRK</td>\n",
       "      <td>KPi.037</td>\n",
       "      <td>2016-11-30</td>\n",
       "      <td>None</td>\n",
       "      <td>None</td>\n",
       "      <td>None</td>\n",
       "      <td>None</td>\n",
       "      <td>None</td>\n",
       "      <td>None</td>\n",
       "      <td>None</td>\n",
       "      <td>None</td>\n",
       "      <td>None</td>\n",
       "      <td>None</td>\n",
       "      <td>None</td>\n",
       "      <td>None</td>\n",
       "      <td>NaN</td>\n",
       "      <td>NaN</td>\n",
       "      <td>NaN</td>\n",
       "      <td>NaN</td>\n",
       "      <td>NaN</td>\n",
       "    </tr>\n",
       "    <tr>\n",
       "      <th>2</th>\n",
       "      <td>6908571</td>\n",
       "      <td>1</td>\n",
       "      <td>CHO</td>\n",
       "      <td>CHUN RYONG</td>\n",
       "      <td>None</td>\n",
       "      <td>DPRK</td>\n",
       "      <td>KPi.038</td>\n",
       "      <td>2016-11-30</td>\n",
       "      <td>None</td>\n",
       "      <td>None</td>\n",
       "      <td>None</td>\n",
       "      <td>None</td>\n",
       "      <td>None</td>\n",
       "      <td>None</td>\n",
       "      <td>None</td>\n",
       "      <td>None</td>\n",
       "      <td>None</td>\n",
       "      <td>None</td>\n",
       "      <td>None</td>\n",
       "      <td>None</td>\n",
       "      <td>NaN</td>\n",
       "      <td>NaN</td>\n",
       "      <td>NaN</td>\n",
       "      <td>NaN</td>\n",
       "      <td>NaN</td>\n",
       "    </tr>\n",
       "    <tr>\n",
       "      <th>3</th>\n",
       "      <td>6908858</td>\n",
       "      <td>1</td>\n",
       "      <td>EMRAAN</td>\n",
       "      <td>ALI</td>\n",
       "      <td>None</td>\n",
       "      <td>Al-Qaida</td>\n",
       "      <td>QDi.430</td>\n",
       "      <td>2021-11-23</td>\n",
       "      <td>Senior member of Islamic State in Iraq and the...</td>\n",
       "      <td>None</td>\n",
       "      <td>None</td>\n",
       "      <td>None</td>\n",
       "      <td>None</td>\n",
       "      <td>None</td>\n",
       "      <td>None</td>\n",
       "      <td>None</td>\n",
       "      <td>None</td>\n",
       "      <td>None</td>\n",
       "      <td>None</td>\n",
       "      <td>None</td>\n",
       "      <td>NaN</td>\n",
       "      <td>NaN</td>\n",
       "      <td>NaN</td>\n",
       "      <td>NaN</td>\n",
       "      <td>NaN</td>\n",
       "    </tr>\n",
       "    <tr>\n",
       "      <th>4</th>\n",
       "      <td>6908565</td>\n",
       "      <td>1</td>\n",
       "      <td>JO</td>\n",
       "      <td>YONG CHOL</td>\n",
       "      <td>None</td>\n",
       "      <td>DPRK</td>\n",
       "      <td>KPi.034</td>\n",
       "      <td>2016-11-30</td>\n",
       "      <td>Jo Yong Chol is a DPRK Ministry of State Secur...</td>\n",
       "      <td>None</td>\n",
       "      <td>None</td>\n",
       "      <td>None</td>\n",
       "      <td>None</td>\n",
       "      <td>None</td>\n",
       "      <td>None</td>\n",
       "      <td>None</td>\n",
       "      <td>None</td>\n",
       "      <td>None</td>\n",
       "      <td>None</td>\n",
       "      <td>None</td>\n",
       "      <td>NaN</td>\n",
       "      <td>NaN</td>\n",
       "      <td>NaN</td>\n",
       "      <td>NaN</td>\n",
       "      <td>NaN</td>\n",
       "    </tr>\n",
       "  </tbody>\n",
       "</table>\n",
       "</div>"
      ],
      "text/plain": [
       "    DATAID VERSIONNUM FIRST_NAME  SECOND_NAME THIRD_NAME UN_LIST_TYPE  \\\n",
       "0  6908555          1        RI        WON HO       None         DPRK   \n",
       "1  6908570          1      CHANG     CHANG HA       None         DPRK   \n",
       "2  6908571          1      CHO    CHUN RYONG        None         DPRK   \n",
       "3  6908858          1     EMRAAN          ALI       None     Al-Qaida   \n",
       "4  6908565          1        JO     YONG CHOL       None         DPRK   \n",
       "\n",
       "  REFERENCE_NUMBER   LISTED_ON  \\\n",
       "0          KPi.033  2016-11-30   \n",
       "1          KPi.037  2016-11-30   \n",
       "2          KPi.038  2016-11-30   \n",
       "3          QDi.430  2021-11-23   \n",
       "4         KPi.034   2016-11-30   \n",
       "\n",
       "                                           COMMENTS1 DESIGNATION NATIONALITY  \\\n",
       "0  Ri Won Ho is a DPRK Ministry of State Security...        None        None   \n",
       "1                                               None        None        None   \n",
       "2                                               None        None        None   \n",
       "3  Senior member of Islamic State in Iraq and the...        None        None   \n",
       "4  Jo Yong Chol is a DPRK Ministry of State Secur...        None        None   \n",
       "\n",
       "  LIST_TYPE LAST_DAY_UPDATED INDIVIDUAL_ALIAS INDIVIDUAL_ADDRESS  \\\n",
       "0      None             None             None               None   \n",
       "1      None             None             None               None   \n",
       "2      None             None             None               None   \n",
       "3      None             None             None               None   \n",
       "4      None             None             None               None   \n",
       "\n",
       "  INDIVIDUAL_DATE_OF_BIRTH INDIVIDUAL_PLACE_OF_BIRTH INDIVIDUAL_DOCUMENT  \\\n",
       "0                     None                      None                None   \n",
       "1                     None                      None                None   \n",
       "2                     None                      None                None   \n",
       "3                     None                      None                None   \n",
       "4                     None                      None                None   \n",
       "\n",
       "  SORT_KEY SORT_KEY_LAST_MOD NAME_ORIGINAL_SCRIPT FOURTH_NAME GENDER TITLE  \\\n",
       "0     None              None                  NaN         NaN    NaN   NaN   \n",
       "1     None              None                  NaN         NaN    NaN   NaN   \n",
       "2     None              None                  NaN         NaN    NaN   NaN   \n",
       "3     None              None                  NaN         NaN    NaN   NaN   \n",
       "4     None              None                  NaN         NaN    NaN   NaN   \n",
       "\n",
       "  SUBMITTED_BY  \n",
       "0          NaN  \n",
       "1          NaN  \n",
       "2          NaN  \n",
       "3          NaN  \n",
       "4          NaN  "
      ]
     },
     "execution_count": 14,
     "metadata": {},
     "output_type": "execute_result"
    }
   ],
   "source": [
    "df_individuals.head(5)"
   ]
  },
  {
   "cell_type": "code",
   "execution_count": 15,
   "metadata": {},
   "outputs": [
    {
     "name": "stdout",
     "output_type": "stream",
     "text": [
      "<class 'pandas.core.frame.DataFrame'>\n",
      "RangeIndex: 700 entries, 0 to 699\n",
      "Data columns (total 25 columns):\n",
      " #   Column                     Non-Null Count  Dtype \n",
      "---  ------                     --------------  ----- \n",
      " 0   DATAID                     700 non-null    object\n",
      " 1   VERSIONNUM                 700 non-null    object\n",
      " 2   FIRST_NAME                 700 non-null    object\n",
      " 3   SECOND_NAME                691 non-null    object\n",
      " 4   THIRD_NAME                 341 non-null    object\n",
      " 5   UN_LIST_TYPE               700 non-null    object\n",
      " 6   REFERENCE_NUMBER           700 non-null    object\n",
      " 7   LISTED_ON                  700 non-null    object\n",
      " 8   COMMENTS1                  612 non-null    object\n",
      " 9   DESIGNATION                0 non-null      object\n",
      " 10  NATIONALITY                0 non-null      object\n",
      " 11  LIST_TYPE                  0 non-null      object\n",
      " 12  LAST_DAY_UPDATED           0 non-null      object\n",
      " 13  INDIVIDUAL_ALIAS           0 non-null      object\n",
      " 14  INDIVIDUAL_ADDRESS         0 non-null      object\n",
      " 15  INDIVIDUAL_DATE_OF_BIRTH   0 non-null      object\n",
      " 16  INDIVIDUAL_PLACE_OF_BIRTH  0 non-null      object\n",
      " 17  INDIVIDUAL_DOCUMENT        0 non-null      object\n",
      " 18  SORT_KEY                   0 non-null      object\n",
      " 19  SORT_KEY_LAST_MOD          0 non-null      object\n",
      " 20  NAME_ORIGINAL_SCRIPT       355 non-null    object\n",
      " 21  FOURTH_NAME                169 non-null    object\n",
      " 22  GENDER                     66 non-null     object\n",
      " 23  TITLE                      0 non-null      object\n",
      " 24  SUBMITTED_BY               2 non-null      object\n",
      "dtypes: object(25)\n",
      "memory usage: 136.8+ KB\n"
     ]
    }
   ],
   "source": [
    "df_individuals.info()"
   ]
  }
 ],
 "metadata": {
  "kernelspec": {
   "display_name": "Python 3.8.5 ('base')",
   "language": "python",
   "name": "python3"
  },
  "language_info": {
   "codemirror_mode": {
    "name": "ipython",
    "version": 3
   },
   "file_extension": ".py",
   "mimetype": "text/x-python",
   "name": "python",
   "nbconvert_exporter": "python",
   "pygments_lexer": "ipython3",
   "version": "3.8.5"
  },
  "orig_nbformat": 4,
  "vscode": {
   "interpreter": {
    "hash": "ad2bdc8ecc057115af97d19610ffacc2b4e99fae6737bb82f5d7fb13d2f2c186"
   }
  }
 },
 "nbformat": 4,
 "nbformat_minor": 2
}
